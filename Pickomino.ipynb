{
 "cells": [
  {
   "cell_type": "markdown",
   "metadata": {
    "id": "vDDaf-TNXfut"
   },
   "source": [
    "rules of the game : https://cdn.1j1ju.com/medias/85/5e/7c-pickomino-rulebook.pdf\n",
    "\n",
    "subject : https://team.inria.fr/polaris/files/2023/10/project_2023.pdf\n",
    "\n",
    "#PART 1: MDP for 1 player"
   ]
  },
  {
   "cell_type": "markdown",
   "metadata": {
    "id": "7JAxJHl9XZaP"
   },
   "source": [
    "\\go faire un truc déguelasse avec dico et sets et ensuite on optimise si besoin\n",
    "\n",
    "on considère dans toute la suite que 6 est synonyme de 'W' (worm)\n",
    "\n",
    "a state is : a sorted list of dices rolled + a set of faces you cannot choose + the sum of dices already picked"
   ]
  },
  {
   "cell_type": "code",
   "execution_count": 2,
   "metadata": {
    "colab": {
     "base_uri": "https://localhost:8080/"
    },
    "executionInfo": {
     "elapsed": 83754,
     "status": "ok",
     "timestamp": 1697569238851,
     "user": {
      "displayName": "Damien Lesens",
      "userId": "06426942432607513365"
     },
     "user_tz": -120
    },
    "id": "HnsT1en_Y7LS",
    "outputId": "97a734e3-03de-4342-f9fa-659e2caac700"
   },
   "outputs": [
    {
     "name": "stdout",
     "output_type": "stream",
     "text": [
      "Continue with dice 4 value is: 1.947539880511477\n"
     ]
    }
   ],
   "source": [
    "#Première question\n",
    "from dice_state import *\n",
    "from mdp2 import *\n",
    "\n",
    "c = 0 #value if you lose the turn\n",
    "r = [1,1,1,1,2,2,2,2,3,3,3,3,4,4,4,4] + [4]*100\n",
    "mdp = MDP2(c,r)\n",
    "\n",
    "dices = (1, 3, 3, 3, 3, 4, 4, 5, 6)\n",
    "score = 0\n",
    "used = set()\n",
    "state = DiceState(dices, score, used)\n",
    "\n",
    "mdp.explore(state)\n",
    "\n",
    "print(mdp.opti[state], \"value is:\", mdp.value[state])\n"
   ]
  },
  {
   "cell_type": "code",
   "execution_count": 4,
   "metadata": {
    "colab": {
     "base_uri": "https://localhost:8080/"
    },
    "executionInfo": {
     "elapsed": 84528,
     "status": "ok",
     "timestamp": 1697569342211,
     "user": {
      "displayName": "Damien Lesens",
      "userId": "06426942432607513365"
     },
     "user_tz": -120
    },
    "id": "L1TT89_H_NWz",
    "outputId": "da81eb93-2a9c-4e42-a439-ef6c785a542b"
   },
   "outputs": [
    {
     "name": "stdout",
     "output_type": "stream",
     "text": [
      "Continue with dice 4 value is: 1.4599163108402191\n"
     ]
    }
   ],
   "source": [
    "#For c = -3\n",
    "c = -3 #value if you lose the turn\n",
    "r = [1,1,1,1,2,2,2,2,3,3,3,3,4,4,4,4] + [4]*100\n",
    "mdp = MDP2(c,r)\n",
    "\n",
    "dices = (1, 3, 3, 3, 3, 4, 4, 5, 6)\n",
    "score = 0\n",
    "used = set()\n",
    "\n",
    "state = DiceState(dices, score, used)\n",
    "mdp.explore(state)\n",
    "\n",
    "\n",
    "print(mdp.opti[state], \"value is:\", mdp.value[state])\n"
   ]
  },
  {
   "cell_type": "code",
   "execution_count": 5,
   "metadata": {},
   "outputs": [
    {
     "name": "stdout",
     "output_type": "stream",
     "text": [
      "0.8930267371507402\n"
     ]
    }
   ],
   "source": [
    "#Probability of obtaining a tile with 1 or more worms\n",
    "from mdp2 import *\n",
    "from dice_state import *\n",
    "\n",
    "c = 0 #value if you lose the turn\n",
    "r = [1]*100\n",
    "mdp = MDP2(c,r)\n",
    "\n",
    "mdp.explore_all()\n",
    "\n",
    "p = mdp.compute_value_total()\n",
    "print(p)"
   ]
  },
  {
   "cell_type": "code",
   "execution_count": 6,
   "metadata": {},
   "outputs": [
    {
     "name": "stdout",
     "output_type": "stream",
     "text": [
      "0.6803307111795147\n"
     ]
    }
   ],
   "source": [
    "#Probability of obtaining a tile with 2 or more worms\n",
    "from mdp2 import *\n",
    "from dice_state import *\n",
    "\n",
    "c = 0 #value if you lose the turn\n",
    "r = [0]*4+[1]*100\n",
    "mdp = MDP2(c,r)\n",
    "\n",
    "mdp.explore_all()\n",
    "\n",
    "p = mdp.compute_value_total()\n",
    "print(p)"
   ]
  },
  {
   "cell_type": "code",
   "execution_count": 7,
   "metadata": {},
   "outputs": [
    {
     "name": "stdout",
     "output_type": "stream",
     "text": [
      "0.34629328714934327\n"
     ]
    }
   ],
   "source": [
    "#Probability of obtaining a tile with 3 or more worms\n",
    "from mdp2 import *\n",
    "from dice_state import *\n",
    "\n",
    "c = 0 #value if you lose the turn\n",
    "r = [0]*8+[1]*100\n",
    "mdp = MDP2(c,r)\n",
    "\n",
    "mdp.explore_all()\n",
    "\n",
    "p = mdp.compute_value_total()\n",
    "print(p)"
   ]
  },
  {
   "cell_type": "code",
   "execution_count": 8,
   "metadata": {},
   "outputs": [
    {
     "name": "stdout",
     "output_type": "stream",
     "text": [
      "0.08677521589317934\n"
     ]
    }
   ],
   "source": [
    "#Probability of obtaining a tile with 4 worms\n",
    "from mdp2 import *\n",
    "from dice_state import *\n",
    "\n",
    "c = 0 #value if you lose the turn\n",
    "r = [0]*12+[1]*100\n",
    "mdp = MDP2(c,r)\n",
    "\n",
    "mdp.explore_all()\n",
    "\n",
    "p = mdp.compute_value_total()\n",
    "print(p)"
   ]
  },
  {
   "cell_type": "code",
   "execution_count": 9,
   "metadata": {
    "colab": {
     "base_uri": "https://localhost:8080/"
    },
    "executionInfo": {
     "elapsed": 54292,
     "status": "ok",
     "timestamp": 1697569046562,
     "user": {
      "displayName": "Damien Lesens",
      "userId": "06426942432607513365"
     },
     "user_tz": -120
    },
    "id": "KNRgXzWF5W92",
    "outputId": "68c07b6e-7e2f-4fe6-b2c1-992d39f97566"
   },
   "outputs": [
    {
     "name": "stdout",
     "output_type": "stream",
     "text": [
      "Probability of getting exactly tile 24 is 0.3750601883516776\n"
     ]
    }
   ],
   "source": [
    "#Probability of getting exactly tile 24\n",
    "from mdp2 import *\n",
    "from dice_state import *\n",
    "\n",
    "c = 0 #value if you lose the turn\n",
    "r = [0,0,0,1] + [0]*100\n",
    "mdp = MDP2(c,r)\n",
    "\n",
    "mdp.explore_all()\n",
    "\n",
    "p = mdp.compute_value_total()\n",
    "print(\"Probability of getting exactly tile 24 is\",p)\n"
   ]
  },
  {
   "cell_type": "code",
   "execution_count": 10,
   "metadata": {
    "colab": {
     "base_uri": "https://localhost:8080/"
    },
    "executionInfo": {
     "elapsed": 54949,
     "status": "ok",
     "timestamp": 1697569112984,
     "user": {
      "displayName": "Damien Lesens",
      "userId": "06426942432607513365"
     },
     "user_tz": -120
    },
    "id": "FMio81Gh6UBb",
    "outputId": "2cf09edf-0830-4096-a0d1-e809c456dba2"
   },
   "outputs": [
    {
     "name": "stdout",
     "output_type": "stream",
     "text": [
      "Probability of getting tile 27 of more is 0.5247594468429359\n"
     ]
    }
   ],
   "source": [
    "#Probability of getting tile 27 or more\n",
    "from mdp2 import *\n",
    "from dice_state import *\n",
    "\n",
    "c = 0 #value if you lose the turn\n",
    "r = [0,0,0,0,0,0,1] + [1]*100\n",
    "mdp = MDP2(c,r)\n",
    "\n",
    "mdp.explore_all()\n",
    "\n",
    "p = mdp.compute_value_total()\n",
    "print(\"Probability of getting tile 27 of more is\",p)"
   ]
  },
  {
   "cell_type": "code",
   "execution_count": 1,
   "metadata": {
    "id": "kco3hxeu6SsB"
   },
   "outputs": [
    {
     "name": "stdout",
     "output_type": "stream",
     "text": [
      "1.5035075126898982 Continue with dice 4\n"
     ]
    }
   ],
   "source": [
    "#Verification mdp\n",
    "from dice_state import *\n",
    "from mdp2 import *\n",
    "\n",
    "c = 0 #value if you lose the turn\n",
    "r = [1,1,1,1,2,2,2,2,3,3,3,3,4,4,4,4] + [4]*100\n",
    "mdp = MDP2(c,r)\n",
    "\n",
    "dices = (1, 1, 2, 4, 4, 4, 5, 6)\n",
    "score = 0\n",
    "used = set()\n",
    "state = DiceState(dices, score, used)\n",
    "\n",
    "mdp.explore(state)\n",
    "\n",
    "print(mdp.value[state], mdp.opti[state])"
   ]
  },
  {
   "cell_type": "code",
   "execution_count": 2,
   "metadata": {},
   "outputs": [
    {
     "name": "stdout",
     "output_type": "stream",
     "text": [
      "1.0007739864349952 Continue with dice 6\n",
      "The expected value for keeping the 2 four is: 0.8577674897119344\n"
     ]
    }
   ],
   "source": [
    "#Verification mdp\n",
    "from dice_state import *\n",
    "from mdp2 import *\n",
    "\n",
    "c = 0 #value if you lose the turn\n",
    "r = [1,1,1,1,2,2,2,2,3,3,3,3,4,4,4,4] + [4]*100\n",
    "mdp = MDP2(c,r)\n",
    "\n",
    "dices = (1, 3, 4, 4, 6)\n",
    "score = 9\n",
    "used = {3}\n",
    "state = DiceState(dices, score, used)\n",
    "\n",
    "mdp.explore(state)\n",
    "\n",
    "print(mdp.value[state], mdp.opti[state])\n",
    "# state2 = (new_score, tuple(new_used), nb_dices-count)\n",
    "#keeping the 2 four\n",
    "state2 = (9+8,tuple({3,4}),3)\n",
    "print(\"The expected value for keeping the 2 four is:\",mdp.value_diceless[state2])"
   ]
  },
  {
   "cell_type": "code",
   "execution_count": 3,
   "metadata": {},
   "outputs": [
    {
     "name": "stdout",
     "output_type": "stream",
     "text": [
      "1.7256944444444444 should stop : False\n"
     ]
    }
   ],
   "source": [
    "#Verification mdp\n",
    "from dice_state import *\n",
    "from mdp2 import *\n",
    "\n",
    "c = 0 #value if you lose the turn\n",
    "r = [1,1,1,1,2,2,2,2,3,3,3,3,4,4,4,4] + [4]*100\n",
    "mdp = MDP2(c,r)\n",
    "\n",
    "score = 23\n",
    "used = {3,5,6}\n",
    "nbdice = 3\n",
    "\n",
    "state2 = score, tuple(used), nbdice\n",
    "\n",
    "mdp.explore_diceless(state2)\n",
    "\n",
    "print(f\"{mdp.value_diceless[state2]} should stop : {mdp.should_stop[state2]}\")"
   ]
  },
  {
   "cell_type": "code",
   "execution_count": 4,
   "metadata": {},
   "outputs": [
    {
     "name": "stdout",
     "output_type": "stream",
     "text": [
      "1 should stop : True\n"
     ]
    }
   ],
   "source": [
    "#Verification mdp\n",
    "from dice_state import *\n",
    "from mdp2 import *\n",
    "\n",
    "c = 0 #value if you lose the turn\n",
    "r = [1,1,1,1,2,2,2,2,3,3,3,3,4,4,4,4] + [4]*100\n",
    "mdp = MDP2(c,r)\n",
    "\n",
    "score = 21\n",
    "used = {2,3,4,6}\n",
    "nbdice = 2\n",
    "\n",
    "state2 = score, tuple(used), nbdice\n",
    "\n",
    "mdp.explore_diceless(state2)\n",
    "\n",
    "print(f\"{mdp.value_diceless[state2]} should stop : {mdp.should_stop[state2]}\")"
   ]
  },
  {
   "cell_type": "code",
   "execution_count": null,
   "metadata": {
    "id": "lQhvitDt5_2R"
   },
   "outputs": [],
   "source": [
    "from game_state import GameState, TileState\n",
    "from dice_state import DiceState\n",
    "from move import Move, MoveType\n",
    "from player import GreedyPlayer\n",
    "from run_game import *\n",
    "from alpha_beta_player import AlphaBetaPlayer\n",
    "\n",
    "\n",
    "p1 = AlphaBetaPlayer(0, 2)\n",
    "n1 = f\"AlphaBeta(0, 2)\"\n",
    "p2 = AlphaBetaPlayer(1,1)\n",
    "n2 = f\"AlphaBeta(1, 1)\"\n",
    "\n",
    "NUM_GAMES = 500\n",
    "\n",
    "w, t = 0, 0\n",
    "for i in range(NUM_GAMES):\n",
    "    if i % 2 == 0:\n",
    "        winner = run_game(p1, p2, debug=True)\n",
    "    else:\n",
    "        winner = run_game(p2, p1, debug=True)\n",
    "    if winner == PlayerTurn.PLAYER_1:\n",
    "        w+=1\n",
    "    t += 1\n",
    "    print(f\"[{i}] {n1} wins with probabilty {w/t} over {n2}\")\n",
    "\n"
   ]
  },
  {
   "cell_type": "code",
   "execution_count": 1,
   "metadata": {},
   "outputs": [
    {
     "name": "stdout",
     "output_type": "stream",
     "text": [
      "PlayerTurn.PLAYER_1\n"
     ]
    }
   ],
   "source": [
    "from alpha_beta_player import AlphaBetaPlayer\n",
    "from game_state import GameState, TileState\n",
    "from dice_state import DiceState\n",
    "from move import Move, MoveType\n",
    "from player import GreedyPlayer\n",
    "from run_game import *\n",
    "\n",
    "p1 = AlphaBetaPlayer(1,1)\n",
    "p2 = AlphaBetaPlayer(1.5,0.5)\n",
    "\n",
    "w = run_game(p1,p2)\n",
    "print(w)"
   ]
  },
  {
   "cell_type": "code",
   "execution_count": null,
   "metadata": {},
   "outputs": [],
   "source": [
    "from alpha_beta_player import AlphaBetaPlayer\n",
    "from game_state import GameState, TileState\n",
    "from dice_state import DiceState\n",
    "from move import Move, MoveType\n",
    "from player import GreedyPlayer\n",
    "from run_game import *\n",
    "from mdp import *\n",
    "\n",
    "m = MDP(0, [1,1,1,1,2,2,2,2,3,3,3,3,4,4,4,4])\n",
    "\n",
    "state = DiceState((2, 4, 6, 6, 6), 15, {4})\n",
    "\n",
    "m.explore(state)\n",
    "\n",
    "print(m.opti[state])\n",
    "for i in m.opti:\n",
    "    print(i,m.opti[i])"
   ]
  },
  {
   "cell_type": "code",
   "execution_count": null,
   "metadata": {},
   "outputs": [],
   "source": [
    "from ucb import *\n",
    "from alpha_beta_player import AlphaBetaPlayer\n",
    "\n",
    "\n",
    "p1 = AlphaBetaPlayer(1,1)\n",
    "\n",
    "num_games = 10000\n",
    "grid_size = 9\n",
    "\n",
    "best_pair = simulate_games_ucb(p1, grid_size, num_games)\n",
    "print(f\"The best pair against (1,1) is: {best_pair}\")"
   ]
  },
  {
   "cell_type": "code",
   "execution_count": 15,
   "metadata": {},
   "outputs": [],
   "source": [
    "from reinforce import *\n",
    "from constants import *\n",
    "from feature_map import *\n",
    "\n",
    "\n",
    "#doit être de la même taile que phi\n",
    "w0 = np.array([1 for i in range(9)])\n",
    "#w1 = [ 5.50374473, -1.36858401,  0.51578084,  3.28446589,  1.71115451,  5.64062541, -0.03022021,  1.78369999,  1.12533504,  1.12793183]\n",
    "w1 = [ 9.9627381,  -3.108125,    1.28592067,  2.07558112,  2.4117237,   9.27304839, 1.07186631,  1.00073226,  1.07025064]\n",
    "w2 = [ 0.31486198, -2.06873916,  0.97608623, 2.01753759,  2.80780986,  6.72828187, 1.25194883,  1.1615092,   0.51187523]\n",
    "\n",
    "pr = Reinforce(w0,1,1,phi,0.95)\n"
   ]
  },
  {
   "cell_type": "code",
   "execution_count": 21,
   "metadata": {},
   "outputs": [
    {
     "name": "stdout",
     "output_type": "stream",
     "text": [
      "step: 0\n",
      "w: [1.00495422 1.         0.94657931 1.3237469  2.7055132  5.39390718\n",
      " 1.09283325 0.79738258 0.70883394]\n",
      "gradient norm: 0.3785323269704447\n",
      "step: 100\n",
      "w: [1.25247802 1.         0.94692609 1.32128017 2.60896973 5.48651276\n",
      " 1.09230616 0.79874366 0.70918698]\n",
      "gradient norm: 0.027142686652742186\n",
      "step: 200\n",
      "w: [0.99600493 1.         0.94702415 1.32137917 2.75085369 5.62299183\n",
      " 1.09230647 0.79836191 0.70918812]\n",
      "gradient norm: 0.08540710734464232\n",
      "step: 300\n",
      "w: [0.60717639 1.         0.94713396 1.32148694 2.82360384 5.65482276\n",
      " 1.09230561 0.79767889 0.70918945]\n",
      "gradient norm: 0.009403998613750958\n",
      "step: 400\n",
      "w: [0.6787399  1.         0.94722202 1.32155562 2.81418116 5.70568014\n",
      " 1.09229655 0.79751074 0.70922188]\n",
      "gradient norm: 0.27756228047195103\n",
      "step: 500\n",
      "w: [0.22948962 1.         0.94621547 1.3205517  2.90658224 5.61163073\n",
      " 1.09229711 0.80132902 0.7092151 ]\n",
      "gradient norm: 0.15633804556981595\n",
      "step: 600\n",
      "w: [0.50837259 1.         0.9470079  1.32134428 2.84838035 5.72007896\n",
      " 1.0922972  0.79896332 0.7092274 ]\n",
      "gradient norm: 0.10726758196219428\n",
      "step: 700\n",
      "w: [-0.09023929  1.          0.94757576  1.31907379  3.00943509  5.62217545\n",
      "  1.09135108  0.79855004  0.71149355]\n",
      "gradient norm: 0.17594564115899994\n",
      "step: 800\n",
      "w: [0.83659607 1.         0.9474472  1.31894569 2.87854977 5.9069745\n",
      " 1.0913512  0.79885483 0.71147775]\n",
      "gradient norm: 0.03330448659658813\n",
      "step: 900\n",
      "w: [0.85568941 1.         0.94742756 1.31751512 2.87245027 5.88990981\n",
      " 1.09088161 0.79963655 0.71148219]\n",
      "gradient norm: 0.10600922473137359\n",
      "step: 1000\n",
      "w: [-1.02380028  1.          0.94730154  1.31977797  3.34547663  5.82709228\n",
      "  1.09132968  0.79875718  0.7105861 ]\n",
      "gradient norm: 31.121616057729256\n",
      "step: 1100\n",
      "w: [0.25615684 1.         0.94717333 1.31956654 3.20944159 6.17766484\n",
      " 1.09130419 0.79946289 0.71057974]\n",
      "gradient norm: 0.11590701886238251\n",
      "step: 1200\n",
      "w: [0.37861772 1.         0.94858457 1.31298806 3.16281981 6.22484615\n",
      " 1.08970501 0.79877805 0.71058758]\n",
      "gradient norm: 0.2077343992195361\n",
      "step: 1300\n",
      "w: [0.55368838 1.         0.94851211 1.31292494 3.14198933 6.2449851\n",
      " 1.08970793 0.79896382 0.71057818]\n",
      "gradient norm: 0.10161791428340165\n",
      "step: 1400\n",
      "w: [0.84587087 1.         0.94863019 1.31306314 3.01667942 6.27993621\n",
      " 1.08971684 0.79833504 0.71054599]\n",
      "gradient norm: 0.03588787010708256\n",
      "step: 1500\n",
      "w: [1.09557797 1.         0.94859203 1.31302564 2.93388814 6.41178418\n",
      " 1.08971711 0.79816182 0.71054233]\n",
      "gradient norm: 0.1975004396976833\n",
      "step: 1600\n",
      "w: [1.09991275 1.         0.94865273 1.31312987 2.93270304 6.4070906\n",
      " 1.08973457 0.7979811  0.710487  ]\n",
      "gradient norm: 0.21421866188949207\n",
      "step: 1700\n",
      "w: [2.34571333 1.         0.99284456 1.13684583 2.54896229 6.15952976\n",
      " 1.04563775 0.76812599 0.71051611]\n",
      "gradient norm: 0.020740605816811607\n",
      "step: 1800\n",
      "w: [1.39843439 1.         0.99274274 1.1368427  2.7972147  6.41836019\n",
      " 1.04565895 0.76844495 0.71043593]\n",
      "gradient norm: 0.009787483521261697\n",
      "step: 1900\n",
      "w: [1.59535658 1.         0.99265559 1.13675637 2.74037842 6.37508776\n",
      " 1.04565927 0.76864255 0.71043672]\n",
      "gradient norm: 0.016761552649552133\n"
     ]
    }
   ],
   "source": [
    "pr.train(2000,0.01)"
   ]
  },
  {
   "cell_type": "code",
   "execution_count": 22,
   "metadata": {},
   "outputs": [
    {
     "data": {
      "text/plain": [
       "0.389"
      ]
     },
     "execution_count": 22,
     "metadata": {},
     "output_type": "execute_result"
    }
   ],
   "source": [
    "pr.evaluate(1000)"
   ]
  },
  {
   "cell_type": "code",
   "execution_count": 4,
   "metadata": {},
   "outputs": [
    {
     "name": "stdout",
     "output_type": "stream",
     "text": [
      "[ 1.07817999 -2.61937355  0.85869885  1.12038423  2.77553292  6.31692917\n",
      "  1.04826051  1.31944893  1.05957952]\n"
     ]
    }
   ],
   "source": [
    "print(pr.w)"
   ]
  },
  {
   "cell_type": "code",
   "execution_count": null,
   "metadata": {},
   "outputs": [],
   "source": []
  }
 ],
 "metadata": {
  "colab": {
   "provenance": [
    {
     "file_id": "1vDMIx-ai2g4im_qNFK57JmsGba2q4Bc5",
     "timestamp": 1697629760854
    }
   ]
  },
  "interpreter": {
   "hash": "916dbcbb3f70747c44a77c7bcd40155683ae19c65e1c03b4aa3499c5328201f1"
  },
  "kernelspec": {
   "display_name": "Python 3.10.12 64-bit",
   "language": "python",
   "name": "python3"
  },
  "language_info": {
   "codemirror_mode": {
    "name": "ipython",
    "version": 3
   },
   "file_extension": ".py",
   "mimetype": "text/x-python",
   "name": "python",
   "nbconvert_exporter": "python",
   "pygments_lexer": "ipython3",
   "version": "3.10.6"
  }
 },
 "nbformat": 4,
 "nbformat_minor": 1
}

{
 "cells": [
  {
   "cell_type": "markdown",
   "metadata": {
    "id": "vDDaf-TNXfut"
   },
   "source": [
    "rules of the game : https://cdn.1j1ju.com/medias/85/5e/7c-pickomino-rulebook.pdf\n",
    "\n",
    "subject : https://team.inria.fr/polaris/files/2023/10/project_2023.pdf\n",
    "\n",
    "#PART 1: MDP for 1 player"
   ]
  },
  {
   "cell_type": "code",
   "execution_count": 1,
   "metadata": {
    "id": "FlKhTj50UlJR"
   },
   "outputs": [],
   "source": [
    "import random as rd\n",
    "import itertools\n",
    "import math\n",
    "\n",
    "from dice_state import *\n",
    "from mdp import *"
   ]
  },
  {
   "cell_type": "markdown",
   "metadata": {
    "id": "7JAxJHl9XZaP"
   },
   "source": [
    "\\go faire un truc déguelasse avec dico et sets et ensuite on optimise si besoin\n",
    "\n",
    "on considère dans toute la suite que 6 est synonyme de 'W' (worm)\n",
    "\n",
    "a state is : a sorted list of dices rolled + a set of faces you cannot choose + the sum of dices already picked"
   ]
  },
  {
   "cell_type": "code",
   "execution_count": null,
   "metadata": {
    "id": "5xWvr6SqZZgC"
   },
   "outputs": [],
   "source": []
  },
  {
   "cell_type": "code",
   "execution_count": 3,
   "metadata": {
    "id": "b1sdxbdYfDJG"
   },
   "outputs": [
    {
     "name": "stdout",
     "output_type": "stream",
     "text": [
      "(1, 1, 1) 0.004629629629629629\n",
      "(1, 1, 2) 0.013888888888888888\n",
      "(1, 1, 3) 0.013888888888888888\n",
      "(1, 1, 4) 0.013888888888888888\n",
      "(1, 1, 5) 0.013888888888888888\n",
      "(1, 1, 6) 0.013888888888888888\n",
      "(1, 2, 2) 0.013888888888888888\n",
      "(1, 2, 3) 0.027777777777777776\n",
      "(1, 2, 4) 0.027777777777777776\n",
      "(1, 2, 5) 0.027777777777777776\n",
      "(1, 2, 6) 0.027777777777777776\n",
      "(1, 3, 3) 0.013888888888888888\n",
      "(1, 3, 4) 0.027777777777777776\n",
      "(1, 3, 5) 0.027777777777777776\n",
      "(1, 3, 6) 0.027777777777777776\n",
      "(1, 4, 4) 0.013888888888888888\n",
      "(1, 4, 5) 0.027777777777777776\n",
      "(1, 4, 6) 0.027777777777777776\n",
      "(1, 5, 5) 0.013888888888888888\n",
      "(1, 5, 6) 0.027777777777777776\n",
      "(1, 6, 6) 0.013888888888888888\n",
      "(2, 2, 2) 0.004629629629629629\n",
      "(2, 2, 3) 0.013888888888888888\n",
      "(2, 2, 4) 0.013888888888888888\n",
      "(2, 2, 5) 0.013888888888888888\n",
      "(2, 2, 6) 0.013888888888888888\n",
      "(2, 3, 3) 0.013888888888888888\n",
      "(2, 3, 4) 0.027777777777777776\n",
      "(2, 3, 5) 0.027777777777777776\n",
      "(2, 3, 6) 0.027777777777777776\n",
      "(2, 4, 4) 0.013888888888888888\n",
      "(2, 4, 5) 0.027777777777777776\n",
      "(2, 4, 6) 0.027777777777777776\n",
      "(2, 5, 5) 0.013888888888888888\n",
      "(2, 5, 6) 0.027777777777777776\n",
      "(2, 6, 6) 0.013888888888888888\n",
      "(3, 3, 3) 0.004629629629629629\n",
      "(3, 3, 4) 0.013888888888888888\n",
      "(3, 3, 5) 0.013888888888888888\n",
      "(3, 3, 6) 0.013888888888888888\n",
      "(3, 4, 4) 0.013888888888888888\n",
      "(3, 4, 5) 0.027777777777777776\n",
      "(3, 4, 6) 0.027777777777777776\n",
      "(3, 5, 5) 0.013888888888888888\n",
      "(3, 5, 6) 0.027777777777777776\n",
      "(3, 6, 6) 0.013888888888888888\n",
      "(4, 4, 4) 0.004629629629629629\n",
      "(4, 4, 5) 0.013888888888888888\n",
      "(4, 4, 6) 0.013888888888888888\n",
      "(4, 5, 5) 0.013888888888888888\n",
      "(4, 5, 6) 0.027777777777777776\n",
      "(4, 6, 6) 0.013888888888888888\n",
      "(5, 5, 5) 0.004629629629629629\n",
      "(5, 5, 6) 0.013888888888888888\n",
      "(5, 6, 6) 0.013888888888888888\n",
      "(6, 6, 6) 0.004629629629629629\n",
      "0.9999999999999996\n"
     ]
    }
   ],
   "source": [
    "#test iterator and compute_prob\n",
    "\n",
    "it = itertools.combinations_with_replacement([1,2,3,4,5,6],3)\n",
    "\n",
    "s = 0\n",
    "for x in it:\n",
    "  print(x,compute_prob(x))\n",
    "  s+=compute_prob(x)\n",
    "\n",
    "print(s)"
   ]
  },
  {
   "cell_type": "code",
   "execution_count": null,
   "metadata": {
    "id": "IipgMKtjgBL7"
   },
   "outputs": [],
   "source": []
  },
  {
   "cell_type": "code",
   "execution_count": 2,
   "metadata": {
    "colab": {
     "base_uri": "https://localhost:8080/"
    },
    "executionInfo": {
     "elapsed": 83754,
     "status": "ok",
     "timestamp": 1697569238851,
     "user": {
      "displayName": "Damien Lesens",
      "userId": "06426942432607513365"
     },
     "user_tz": -120
    },
    "id": "HnsT1en_Y7LS",
    "outputId": "97a734e3-03de-4342-f9fa-659e2caac700"
   },
   "outputs": [
    {
     "name": "stdout",
     "output_type": "stream",
     "text": [
      "(1, 3, 3, 3, 3, 4, 4, 5, 6) 0 set() 1.232827668101253 Continue with dice 4\n"
     ]
    }
   ],
   "source": [
    "from dice_state import *\n",
    "from mdp import *\n",
    "\n",
    "c = 0 #value if you lose the turn\n",
    "r = [1,1,1,1,2,2,2,2,3,3,3,3,4,4,4,4] + [4]*100\n",
    "mdp = MDP(c,r)\n",
    "\n",
    "dices = (1, 3, 3, 3, 3, 4, 4, 5, 6)\n",
    "# dices = (1, 2)\n",
    "score = 0\n",
    "used = set()\n",
    "state = DiceState(dices, score, used)\n",
    "\n",
    "mdp.explore(state)\n",
    "\n",
    "print(state, mdp.value[state], mdp.opti[state])\n"
   ]
  },
  {
   "cell_type": "code",
   "execution_count": 4,
   "metadata": {
    "colab": {
     "base_uri": "https://localhost:8080/"
    },
    "executionInfo": {
     "elapsed": 84528,
     "status": "ok",
     "timestamp": 1697569342211,
     "user": {
      "displayName": "Damien Lesens",
      "userId": "06426942432607513365"
     },
     "user_tz": -120
    },
    "id": "L1TT89_H_NWz",
    "outputId": "da81eb93-2a9c-4e42-a439-ef6c785a542b"
   },
   "outputs": [
    {
     "name": "stdout",
     "output_type": "stream",
     "text": [
      "(1, 3, 3, 3, 3, 4, 4, 5, 6) 0 set() 0.25628056121516724 4\n"
     ]
    }
   ],
   "source": [
    "c = -3 #value if you lose the turn\n",
    "r = [1,1,1,1,2,2,2,2,3,3,3,3,4,4,4,4] + [4]*100\n",
    "mdp = MDP(c,r)\n",
    "\n",
    "dices = (1, 3, 3, 3, 3, 4, 4, 5, 6)\n",
    "score = 0\n",
    "used = set()\n",
    "\n",
    "state = DiceState(dices, score, used)\n",
    "mdp.explore(state)\n",
    "\n",
    "\n",
    "print(state, mdp.value[state], mdp.opti[state])\n"
   ]
  },
  {
   "cell_type": "code",
   "execution_count": 5,
   "metadata": {
    "colab": {
     "base_uri": "https://localhost:8080/"
    },
    "executionInfo": {
     "elapsed": 54292,
     "status": "ok",
     "timestamp": 1697569046562,
     "user": {
      "displayName": "Damien Lesens",
      "userId": "06426942432607513365"
     },
     "user_tz": -120
    },
    "id": "KNRgXzWF5W92",
    "outputId": "68c07b6e-7e2f-4fe6-b2c1-992d39f97566"
   },
   "outputs": [
    {
     "name": "stdout",
     "output_type": "stream",
     "text": [
      "0\n",
      "1\n",
      "2\n",
      "3\n",
      "4\n",
      "5\n",
      "0\n",
      "1\n",
      "2\n",
      "3\n",
      "4\n",
      "5\n",
      "0.24243906674019297\n",
      "35041\n"
     ]
    },
    {
     "data": {
      "text/plain": [
       "'for i in mdp.value.keys():\\n    print(i, mdp.value[i])'"
      ]
     },
     "execution_count": 5,
     "metadata": {},
     "output_type": "execute_result"
    }
   ],
   "source": [
    "from mdp import *\n",
    "from dice_state import *\n",
    "\n",
    "c = 0 #value if you lose the turn\n",
    "r = [0,0,0,1] + [0]*100\n",
    "mdp = MDP(c,r)\n",
    "\n",
    "mdp.explore_all()\n",
    "\n",
    "p = mdp.compute_value_total()\n",
    "print(p)\n",
    "\n",
    "print(len(mdp.value))\n",
    "\"\"\"for i in mdp.value.keys():\n",
    "    print(i, mdp.value[i])\"\"\""
   ]
  },
  {
   "cell_type": "code",
   "execution_count": 6,
   "metadata": {
    "colab": {
     "base_uri": "https://localhost:8080/"
    },
    "executionInfo": {
     "elapsed": 54949,
     "status": "ok",
     "timestamp": 1697569112984,
     "user": {
      "displayName": "Damien Lesens",
      "userId": "06426942432607513365"
     },
     "user_tz": -120
    },
    "id": "FMio81Gh6UBb",
    "outputId": "2cf09edf-0830-4096-a0d1-e809c456dba2"
   },
   "outputs": [
    {
     "name": "stdout",
     "output_type": "stream",
     "text": [
      "0\n",
      "1\n",
      "2\n",
      "3\n",
      "4\n",
      "5\n",
      "0\n",
      "1\n",
      "2\n",
      "3\n",
      "4\n",
      "5\n",
      "0.310248006941\n"
     ]
    }
   ],
   "source": [
    "c = 0 #value if you lose the turn\n",
    "r = [0,0,0,0,0,0,1] + [1]*100\n",
    "mdp = MDP(c,r)\n",
    "\n",
    "mdp.explore_all()\n",
    "\n",
    "p = mdp.compute_value_total()\n",
    "print(p)"
   ]
  },
  {
   "cell_type": "code",
   "execution_count": 2,
   "metadata": {
    "id": "kco3hxeu6SsB"
   },
   "outputs": [
    {
     "name": "stdout",
     "output_type": "stream",
     "text": [
      "(1, 1)\n",
      "(1, 2)\n",
      "(1, 3)\n",
      "(1, 4)\n",
      "(1, 5)\n",
      "(1, 6)\n",
      "(2, 2)\n",
      "(2, 3)\n",
      "(2, 4)\n",
      "(2, 5)\n",
      "(2, 6)\n",
      "(3, 3)\n",
      "(3, 4)\n",
      "(3, 5)\n",
      "(3, 6)\n",
      "(4, 4)\n",
      "(4, 5)\n",
      "(4, 6)\n",
      "(5, 5)\n",
      "(5, 6)\n",
      "(6, 6)\n"
     ]
    }
   ],
   "source": [
    "it = itertools.combinations_with_replacement([1, 1, 3, 4, 5, 6], 2)\n",
    "for i in it:\n",
    "    print(i)"
   ]
  },
  {
   "cell_type": "code",
   "execution_count": 7,
   "metadata": {
    "id": "lQhvitDt5_2R"
   },
   "outputs": [
    {
     "name": "stdout",
     "output_type": "stream",
     "text": [
      "GreedyPlayer 1 wins with probabilty 0.53 over GreedyPlayer 2\n"
     ]
    }
   ],
   "source": [
    "from game_state import GameState, TileState\n",
    "from dice_state import DiceState\n",
    "from move import Move, MoveType\n",
    "from player import GreedyPlayer\n",
    "from run_game import *\n",
    "\n",
    "\n",
    "p1 = GreedyPlayer()\n",
    "p2 = GreedyPlayer()\n",
    "\n",
    "NUM_GAMES = 10000\n",
    "\n",
    "w = 0\n",
    "for _ in range(NUM_GAMES):\n",
    "    if run_game(p1, p2) == PlayerTurn.PLAYER_1:\n",
    "        w+=1\n",
    "print(f\"GreedyPlayer 1 wins with probabilty {w/NUM_GAMES} over GreedyPlayer 2\")\n",
    "\n"
   ]
  }
 ],
 "metadata": {
  "colab": {
   "provenance": [
    {
     "file_id": "1vDMIx-ai2g4im_qNFK57JmsGba2q4Bc5",
     "timestamp": 1697629760854
    }
   ]
  },
  "kernelspec": {
   "display_name": "Python 3 (ipykernel)",
   "language": "python",
   "name": "python3"
  },
  "language_info": {
   "codemirror_mode": {
    "name": "ipython",
    "version": 3
   },
   "file_extension": ".py",
   "mimetype": "text/x-python",
   "name": "python",
   "nbconvert_exporter": "python",
   "pygments_lexer": "ipython3",
   "version": "3.11.6"
  }
 },
 "nbformat": 4,
 "nbformat_minor": 1
}

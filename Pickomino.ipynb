{
 "cells": [
  {
   "cell_type": "markdown",
   "metadata": {
    "id": "vDDaf-TNXfut"
   },
   "source": [
    "rules of the game : https://cdn.1j1ju.com/medias/85/5e/7c-pickomino-rulebook.pdf\n",
    "\n",
    "subject : https://team.inria.fr/polaris/files/2023/10/project_2023.pdf\n",
    "\n",
    "#PART 1: MDP for 1 player"
   ]
  },
  {
   "cell_type": "markdown",
   "metadata": {
    "id": "7JAxJHl9XZaP"
   },
   "source": [
    "\\go faire un truc déguelasse avec dico et sets et ensuite on optimise si besoin\n",
    "\n",
    "on considère dans toute la suite que 6 est synonyme de 'W' (worm)\n",
    "\n",
    "a state is : a sorted list of dices rolled + a set of faces you cannot choose + the sum of dices already picked"
   ]
  },
  {
   "cell_type": "code",
   "execution_count": 2,
   "metadata": {
    "colab": {
     "base_uri": "https://localhost:8080/"
    },
    "executionInfo": {
     "elapsed": 83754,
     "status": "ok",
     "timestamp": 1697569238851,
     "user": {
      "displayName": "Damien Lesens",
      "userId": "06426942432607513365"
     },
     "user_tz": -120
    },
    "id": "HnsT1en_Y7LS",
    "outputId": "97a734e3-03de-4342-f9fa-659e2caac700"
   },
   "outputs": [
    {
     "name": "stdout",
     "output_type": "stream",
     "text": [
      "Continue with dice 4 value is: 1.947539880511477\n"
     ]
    }
   ],
   "source": [
    "#Première question\n",
    "from dice_state import *\n",
    "from mdp2 import *\n",
    "\n",
    "c = 0 #value if you lose the turn\n",
    "r = [1,1,1,1,2,2,2,2,3,3,3,3,4,4,4,4] + [4]*100\n",
    "mdp = MDP2(c,r)\n",
    "\n",
    "dices = (1, 3, 3, 3, 3, 4, 4, 5, 6)\n",
    "score = 0\n",
    "used = set()\n",
    "state = DiceState(dices, score, used)\n",
    "\n",
    "mdp.explore(state)\n",
    "\n",
    "print(mdp.opti[state], \"value is:\", mdp.value[state])\n"
   ]
  },
  {
   "cell_type": "code",
   "execution_count": 4,
   "metadata": {
    "colab": {
     "base_uri": "https://localhost:8080/"
    },
    "executionInfo": {
     "elapsed": 84528,
     "status": "ok",
     "timestamp": 1697569342211,
     "user": {
      "displayName": "Damien Lesens",
      "userId": "06426942432607513365"
     },
     "user_tz": -120
    },
    "id": "L1TT89_H_NWz",
    "outputId": "da81eb93-2a9c-4e42-a439-ef6c785a542b"
   },
   "outputs": [
    {
     "name": "stdout",
     "output_type": "stream",
     "text": [
      "Continue with dice 4 value is: 1.4599163108402191\n"
     ]
    }
   ],
   "source": [
    "#For c = -3\n",
    "c = -3 #value if you lose the turn\n",
    "r = [1,1,1,1,2,2,2,2,3,3,3,3,4,4,4,4] + [4]*100\n",
    "mdp = MDP2(c,r)\n",
    "\n",
    "dices = (1, 3, 3, 3, 3, 4, 4, 5, 6)\n",
    "score = 0\n",
    "used = set()\n",
    "\n",
    "state = DiceState(dices, score, used)\n",
    "mdp.explore(state)\n",
    "\n",
    "\n",
    "print(mdp.opti[state], \"value is:\", mdp.value[state])\n"
   ]
  },
  {
   "cell_type": "code",
   "execution_count": 5,
   "metadata": {},
   "outputs": [
    {
     "name": "stdout",
     "output_type": "stream",
     "text": [
      "0.8930267371507402\n"
     ]
    }
   ],
   "source": [
    "#Probability of obtaining a tile with 1 or more worms\n",
    "from mdp2 import *\n",
    "from dice_state import *\n",
    "\n",
    "c = 0 #value if you lose the turn\n",
    "r = [1]*100\n",
    "mdp = MDP2(c,r)\n",
    "\n",
    "mdp.explore_all()\n",
    "\n",
    "p = mdp.compute_value_total()\n",
    "print(p)"
   ]
  },
  {
   "cell_type": "code",
   "execution_count": 6,
   "metadata": {},
   "outputs": [
    {
     "name": "stdout",
     "output_type": "stream",
     "text": [
      "0.6803307111795147\n"
     ]
    }
   ],
   "source": [
    "#Probability of obtaining a tile with 2 or more worms\n",
    "from mdp2 import *\n",
    "from dice_state import *\n",
    "\n",
    "c = 0 #value if you lose the turn\n",
    "r = [0]*4+[1]*100\n",
    "mdp = MDP2(c,r)\n",
    "\n",
    "mdp.explore_all()\n",
    "\n",
    "p = mdp.compute_value_total()\n",
    "print(p)"
   ]
  },
  {
   "cell_type": "code",
   "execution_count": 7,
   "metadata": {},
   "outputs": [
    {
     "name": "stdout",
     "output_type": "stream",
     "text": [
      "0.34629328714934327\n"
     ]
    }
   ],
   "source": [
    "#Probability of obtaining a tile with 3 or more worms\n",
    "from mdp2 import *\n",
    "from dice_state import *\n",
    "\n",
    "c = 0 #value if you lose the turn\n",
    "r = [0]*8+[1]*100\n",
    "mdp = MDP2(c,r)\n",
    "\n",
    "mdp.explore_all()\n",
    "\n",
    "p = mdp.compute_value_total()\n",
    "print(p)"
   ]
  },
  {
   "cell_type": "code",
   "execution_count": 8,
   "metadata": {},
   "outputs": [
    {
     "name": "stdout",
     "output_type": "stream",
     "text": [
      "0.08677521589317934\n"
     ]
    }
   ],
   "source": [
    "#Probability of obtaining a tile with 4 worms\n",
    "from mdp2 import *\n",
    "from dice_state import *\n",
    "\n",
    "c = 0 #value if you lose the turn\n",
    "r = [0]*12+[1]*100\n",
    "mdp = MDP2(c,r)\n",
    "\n",
    "mdp.explore_all()\n",
    "\n",
    "p = mdp.compute_value_total()\n",
    "print(p)"
   ]
  },
  {
   "cell_type": "code",
   "execution_count": 9,
   "metadata": {
    "colab": {
     "base_uri": "https://localhost:8080/"
    },
    "executionInfo": {
     "elapsed": 54292,
     "status": "ok",
     "timestamp": 1697569046562,
     "user": {
      "displayName": "Damien Lesens",
      "userId": "06426942432607513365"
     },
     "user_tz": -120
    },
    "id": "KNRgXzWF5W92",
    "outputId": "68c07b6e-7e2f-4fe6-b2c1-992d39f97566"
   },
   "outputs": [
    {
     "name": "stdout",
     "output_type": "stream",
     "text": [
      "Probability of getting exactly tile 24 is 0.3750601883516776\n"
     ]
    }
   ],
   "source": [
    "#Probability of getting exactly tile 24\n",
    "from mdp2 import *\n",
    "from dice_state import *\n",
    "\n",
    "c = 0 #value if you lose the turn\n",
    "r = [0,0,0,1] + [0]*100\n",
    "mdp = MDP2(c,r)\n",
    "\n",
    "mdp.explore_all()\n",
    "\n",
    "p = mdp.compute_value_total()\n",
    "print(\"Probability of getting exactly tile 24 is\",p)\n"
   ]
  },
  {
   "cell_type": "code",
   "execution_count": 10,
   "metadata": {
    "colab": {
     "base_uri": "https://localhost:8080/"
    },
    "executionInfo": {
     "elapsed": 54949,
     "status": "ok",
     "timestamp": 1697569112984,
     "user": {
      "displayName": "Damien Lesens",
      "userId": "06426942432607513365"
     },
     "user_tz": -120
    },
    "id": "FMio81Gh6UBb",
    "outputId": "2cf09edf-0830-4096-a0d1-e809c456dba2"
   },
   "outputs": [
    {
     "name": "stdout",
     "output_type": "stream",
     "text": [
      "Probability of getting tile 27 of more is 0.5247594468429359\n"
     ]
    }
   ],
   "source": [
    "#Probability of getting tile 27 or more\n",
    "from mdp2 import *\n",
    "from dice_state import *\n",
    "\n",
    "c = 0 #value if you lose the turn\n",
    "r = [0,0,0,0,0,0,1] + [1]*100\n",
    "mdp = MDP2(c,r)\n",
    "\n",
    "mdp.explore_all()\n",
    "\n",
    "p = mdp.compute_value_total()\n",
    "print(\"Probability of getting tile 27 of more is\",p)"
   ]
  },
  {
   "cell_type": "code",
   "execution_count": 11,
   "metadata": {
    "id": "kco3hxeu6SsB"
   },
   "outputs": [
    {
     "name": "stdout",
     "output_type": "stream",
     "text": [
      "1.5035075126898982 Continue with dice 4\n"
     ]
    }
   ],
   "source": [
    "#Verification mdp\n",
    "from dice_state import *\n",
    "from mdp2 import *\n",
    "\n",
    "c = 0 #value if you lose the turn\n",
    "r = [1,1,1,1,2,2,2,2,3,3,3,3,4,4,4,4] + [4]*100\n",
    "mdp = MDP2(c,r)\n",
    "\n",
    "dices = (1, 1, 2, 4, 4, 4, 5, 6)\n",
    "score = 0\n",
    "used = set()\n",
    "state = DiceState(dices, score, used)\n",
    "\n",
    "mdp.explore(state)\n",
    "\n",
    "print(mdp.value[state], mdp.opti[state])"
   ]
  },
  {
   "cell_type": "code",
   "execution_count": 12,
   "metadata": {},
   "outputs": [
    {
     "name": "stdout",
     "output_type": "stream",
     "text": [
      "1.0007739864349952 Continue with dice 6\n",
      "The expected value for keeping the 2 four is: 0.8577674897119344\n"
     ]
    }
   ],
   "source": [
    "#Verification mdp\n",
    "from dice_state import *\n",
    "from mdp2 import *\n",
    "\n",
    "c = 0 #value if you lose the turn\n",
    "r = [1,1,1,1,2,2,2,2,3,3,3,3,4,4,4,4] + [4]*100\n",
    "mdp = MDP2(c,r)\n",
    "\n",
    "dices = (1, 3, 4, 4, 6)\n",
    "score = 9\n",
    "used = {3}\n",
    "state = DiceState(dices, score, used)\n",
    "\n",
    "mdp.explore(state)\n",
    "\n",
    "print(mdp.value[state], mdp.opti[state])\n",
    "# state2 = (new_score, tuple(new_used), nb_dices-count)\n",
    "#keeping the 2 four\n",
    "state2 = (9+8,tuple({3,4}),3)\n",
    "print(\"The expected value for keeping the 2 four is:\",mdp.value_diceless[state2])"
   ]
  },
  {
   "cell_type": "code",
   "execution_count": 13,
   "metadata": {},
   "outputs": [
    {
     "name": "stdout",
     "output_type": "stream",
     "text": [
      "1.7256944444444444 should stop : False\n"
     ]
    }
   ],
   "source": [
    "#Verification mdp\n",
    "from dice_state import *\n",
    "from mdp2 import *\n",
    "\n",
    "c = 0 #value if you lose the turn\n",
    "r = [1,1,1,1,2,2,2,2,3,3,3,3,4,4,4,4] + [4]*100\n",
    "mdp = MDP2(c,r)\n",
    "\n",
    "score = 23\n",
    "used = {3,5,6}\n",
    "nbdice = 3\n",
    "\n",
    "state2 = score, tuple(used), nbdice\n",
    "\n",
    "mdp.explore_diceless(state2)\n",
    "\n",
    "print(f\"{mdp.value_diceless[state2]} should stop : {mdp.should_stop[state2]}\")"
   ]
  },
  {
   "cell_type": "code",
   "execution_count": 14,
   "metadata": {},
   "outputs": [
    {
     "name": "stdout",
     "output_type": "stream",
     "text": [
      "1 should stop : True\n"
     ]
    }
   ],
   "source": [
    "#Verification mdp\n",
    "from dice_state import *\n",
    "from mdp2 import *\n",
    "\n",
    "c = 0 #value if you lose the turn\n",
    "r = [1,1,1,1,2,2,2,2,3,3,3,3,4,4,4,4] + [4]*100\n",
    "mdp = MDP2(c,r)\n",
    "\n",
    "score = 21\n",
    "used = {2,3,4,6}\n",
    "nbdice = 2\n",
    "\n",
    "state2 = score, tuple(used), nbdice\n",
    "\n",
    "mdp.explore_diceless(state2)\n",
    "\n",
    "print(f\"{mdp.value_diceless[state2]} should stop : {mdp.should_stop[state2]}\")"
   ]
  },
  {
   "cell_type": "code",
   "execution_count": null,
   "metadata": {
    "id": "lQhvitDt5_2R"
   },
   "outputs": [],
   "source": [
    "from game_state import GameState, TileState\n",
    "from dice_state import DiceState\n",
    "from move import Move, MoveType\n",
    "from player import GreedyPlayer\n",
    "from run_game import *\n",
    "from alpha_beta_player import AlphaBetaPlayer\n",
    "\n",
    "\n",
    "p1 = AlphaBetaPlayer(0, 2)\n",
    "n1 = f\"AlphaBeta(0, 2)\"\n",
    "p2 = AlphaBetaPlayer(1,1)\n",
    "n2 = f\"AlphaBeta(1, 1)\"\n",
    "\n",
    "NUM_GAMES = 500\n",
    "\n",
    "w, t = 0, 0\n",
    "for i in range(NUM_GAMES):\n",
    "    if i % 2 == 0:\n",
    "        winner = run_game(p1, p2, debug=True)\n",
    "    else:\n",
    "        winner = run_game(p2, p1, debug=True)\n",
    "    if winner == PlayerTurn.PLAYER_1:\n",
    "        w+=1\n",
    "    t += 1\n",
    "    print(f\"[{i}] {n1} wins with probabilty {w/t} over {n2}\")\n",
    "\n"
   ]
  },
  {
   "cell_type": "code",
   "execution_count": 8,
   "metadata": {},
   "outputs": [
    {
     "name": "stdout",
     "output_type": "stream",
     "text": [
      "PlayerTurn.PLAYER_2\n"
     ]
    }
   ],
   "source": [
    "from alpha_beta_player import AlphaBetaPlayer\n",
    "from game_state import GameState, TileState\n",
    "from dice_state import DiceState\n",
    "from move import Move, MoveType\n",
    "from player import GreedyPlayer\n",
    "from run_game import *\n",
    "\n",
    "p1 = AlphaBetaPlayer(1,1)\n",
    "p2 = AlphaBetaPlayer(1.5,0.5)\n",
    "\n",
    "w = run_game(p1,p2)\n",
    "print(w)"
   ]
  },
  {
   "cell_type": "code",
   "execution_count": null,
   "metadata": {},
   "outputs": [],
   "source": [
    "from alpha_beta_player import AlphaBetaPlayer\n",
    "from game_state import GameState, TileState\n",
    "from dice_state import DiceState\n",
    "from move import Move, MoveType\n",
    "from player import GreedyPlayer\n",
    "from run_game import *\n",
    "from mdp import *\n",
    "\n",
    "m = MDP(0, [1,1,1,1,2,2,2,2,3,3,3,3,4,4,4,4])\n",
    "\n",
    "state = DiceState((2, 4, 6, 6, 6), 15, {4})\n",
    "\n",
    "m.explore(state)\n",
    "\n",
    "print(m.opti[state])\n",
    "for i in m.opti:\n",
    "    print(i,m.opti[i])"
   ]
  },
  {
   "cell_type": "code",
   "execution_count": null,
   "metadata": {},
   "outputs": [],
   "source": [
    "from ucb import *\n",
    "from alpha_beta_player import AlphaBetaPlayer\n",
    "\n",
    "\n",
    "p1 = AlphaBetaPlayer(1,1)\n",
    "\n",
    "num_games = 10000\n",
    "grid_size = 9\n",
    "\n",
    "best_pair = simulate_games_ucb(p1, grid_size, num_games)\n",
    "print(f\"The best pair against (1,1) is: {best_pair}\")"
   ]
  },
  {
   "cell_type": "code",
   "execution_count": 13,
   "metadata": {},
   "outputs": [],
   "source": [
    "from reinforce import *\n",
    "from constants import *\n",
    "from feature_map import *\n",
    "\n",
    "\n",
    "#doit être de la même taile que phi\n",
    "w0 = np.array([1 for i in range(10)])\n",
    "\n",
    "pr = Reinforce(w0,1,1,phi,0.95)\n"
   ]
  },
  {
   "cell_type": "code",
   "execution_count": 26,
   "metadata": {},
   "outputs": [
    {
     "name": "stdout",
     "output_type": "stream",
     "text": [
      "0\n",
      "[ 5.43225241 -1.43174762  0.51232991  3.28863798  1.77386441  5.74929654\n",
      " -0.0926817   1.78243211  1.12178889  1.1251482 ]\n",
      "gradient norm: 0.4824743834220151\n",
      "100\n",
      "[ 5.40311085 -1.42303096  0.51111473  3.31797935  1.82152035  5.80840076\n",
      " -0.14528355  1.80386091  1.12129877  1.12669721]\n",
      "gradient norm: 0.8607232114946788\n",
      "200\n",
      "[ 5.43012684 -1.43659554  0.51492313  3.26910963  1.85013442  5.8630789\n",
      " -0.16590502  1.78849274  1.12129847  1.12380288]\n",
      "gradient norm: 0.838604552451886\n",
      "300\n",
      "[ 5.51281104 -1.41363484  0.51810243  3.26786861  1.86416445  5.92591646\n",
      " -0.1808246   1.80009294  1.11795201  1.12796133]\n",
      "gradient norm: 0.0010396741002088761\n",
      "400\n",
      "[ 5.54385713 -1.47223738  0.52015987  3.22293666  1.88669441  6.00474444\n",
      " -0.19555928  1.78804435  1.11501861  1.12406422]\n",
      "gradient norm: 0.0049957402708449665\n",
      "500\n",
      "[ 5.49744219 -1.51577265  0.50311741  3.3225689   1.92565617  6.07819063\n",
      " -0.24953737  1.82666302  1.1174883   1.13157239]\n",
      "gradient norm: 9.604809731298543e-05\n",
      "600\n",
      "[ 5.47589994 -1.45012239  0.5003545   3.32681441  1.96735267  6.08184361\n",
      " -0.29172639  1.82860729  1.11920848  1.13323672]\n",
      "gradient norm: 0.7599027555158339\n",
      "700\n",
      "[ 5.57125534 -1.4485239   0.49034187  3.40831399  1.94086573  6.05549579\n",
      " -0.27821215  1.8577535   1.12053276  1.14023253]\n",
      "gradient norm: 0.0003484021576378471\n",
      "800\n",
      "[ 5.55910097 -1.56444199  0.49036589  3.43708839  1.95465745  6.06056148\n",
      " -0.29708174  1.87330027  1.1197069   1.13855027]\n",
      "gradient norm: 0.20112520639112424\n",
      "900\n",
      "[ 5.64946609 -1.56637632  0.49887448  3.38789022  1.96380948  6.1017269\n",
      " -0.29868921  1.85374291  1.12082811  1.13477799]\n",
      "gradient norm: 0.020978418951927553\n",
      "1000\n",
      "[ 5.66337537 -1.58659682  0.48868404  3.45243659  2.0180411   6.22177415\n",
      " -0.36260053  1.87823948  1.11867074  1.13783572]\n",
      "gradient norm: 0.9338720376810657\n",
      "1100\n",
      "[ 5.81052509 -1.58404902  0.48228732  3.44139312  2.00439058  6.26547833\n",
      " -0.34602022  1.86663755  1.12063484  1.13897388]\n",
      "gradient norm: 0.6705907606564062\n",
      "1200\n",
      "[ 5.90723839 -1.63209245  0.49140327  3.3944008   1.99174807  6.31154543\n",
      " -0.32601894  1.853375    1.12109351  1.13394869]\n",
      "gradient norm: 0.016333931803194892\n",
      "1300\n",
      "[ 5.95136963 -1.6516253   0.48469446  3.40849926  2.04565715  6.44170844\n",
      " -0.3814576   1.86032039  1.11986921  1.13631487]\n",
      "gradient norm: 0.0011357576959429227\n",
      "1400\n",
      "[ 6.06271982 -1.68898612  0.48242324  3.39342154  2.04221425  6.48801736\n",
      " -0.37487137  1.85389383  1.12034152  1.13480382]\n",
      "gradient norm: 0.5014536921847724\n",
      "1500\n",
      "[ 6.11125862 -1.69966505  0.48481656  3.3752459   2.06128704  6.55292984\n",
      " -0.39129212  1.84480475  1.11781743  1.1334778 ]\n",
      "gradient norm: 0.7222912248108015\n",
      "1600\n",
      "[ 6.05742315 -1.74479644  0.46622824  3.4878832   2.0798739   6.54326961\n",
      " -0.42646321  1.88691538  1.12094295  1.13996985]\n",
      "gradient norm: 1.0869965661682437\n",
      "1700\n",
      "[ 6.09761859 -1.76575775  0.46147041  3.48618351  2.10246346  6.58084963\n",
      " -0.44796594  1.88046673  1.11994891  1.13978639]\n",
      "gradient norm: 18.17104873499088\n",
      "1800\n",
      "[ 6.17953817 -1.76190505  0.45708478  3.54665353  2.08615185  6.61320376\n",
      " -0.44136774  1.90796835  1.12264903  1.1464829 ]\n",
      "gradient norm: 0.0014669010690230673\n",
      "1900\n",
      "[ 6.1452737  -1.79106093  0.43569723  3.65848861  2.14024635  6.72125323\n",
      " -0.51214549  1.94703778  1.12389162  1.15482454]\n",
      "gradient norm: 4.708992879697236e-05\n"
     ]
    }
   ],
   "source": [
    "pr.train(2000,0.01)"
   ]
  },
  {
   "cell_type": "code",
   "execution_count": 27,
   "metadata": {},
   "outputs": [
    {
     "data": {
      "text/plain": [
       "0.603"
      ]
     },
     "execution_count": 27,
     "metadata": {},
     "output_type": "execute_result"
    }
   ],
   "source": [
    "pr.evaluate(1000)"
   ]
  },
  {
   "cell_type": "code",
   "execution_count": 12,
   "metadata": {},
   "outputs": [
    {
     "name": "stdout",
     "output_type": "stream",
     "text": [
      "[1 1 1 1 1 1 1 1 1 1]\n"
     ]
    }
   ],
   "source": [
    "print(pr.w)"
   ]
  },
  {
   "cell_type": "code",
   "execution_count": null,
   "metadata": {},
   "outputs": [],
   "source": []
  }
 ],
 "metadata": {
  "colab": {
   "provenance": [
    {
     "file_id": "1vDMIx-ai2g4im_qNFK57JmsGba2q4Bc5",
     "timestamp": 1697629760854
    }
   ]
  },
  "interpreter": {
   "hash": "916dbcbb3f70747c44a77c7bcd40155683ae19c65e1c03b4aa3499c5328201f1"
  },
  "kernelspec": {
   "display_name": "Python 3.10.12 64-bit",
   "language": "python",
   "name": "python3"
  },
  "language_info": {
   "codemirror_mode": {
    "name": "ipython",
    "version": 3
   },
   "file_extension": ".py",
   "mimetype": "text/x-python",
   "name": "python",
   "nbconvert_exporter": "python",
   "pygments_lexer": "ipython3",
   "version": "3.10.12"
  }
 },
 "nbformat": 4,
 "nbformat_minor": 1
}
